{
 "cells": [
  {
   "cell_type": "markdown",
   "metadata": {},
   "source": [
    "# References\n",
    "```{bibliography}\n",
    ":style: plain\n",
    "```\n"
   ]
  }
 ],
 "metadata": {
  "kernelspec": {
   "display_name": "Python 3 (ipykernel)",
   "language": "python",
   "name": "Python 3 (ipykernel)",
   "path": "/home/runner/.local/share/jupyter/kernels/microwave-remote-sensing"
  }
 },
 "nbformat": 4,
 "nbformat_minor": 4
}
