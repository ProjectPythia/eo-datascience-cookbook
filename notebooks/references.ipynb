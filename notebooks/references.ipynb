{
 "cells": [
  {
   "cell_type": "markdown",
   "metadata": {},
   "source": [
    "# References\n",
    "```{bibliography}\n",
    ":style: plain\n",
    "```\n"
   ]
  }
 ],
 "metadata": {
  "kernelspec": {
   "display_name": "microwave-remote-sensing",
   "language": "python",
   "name": "microwave-remote-sensing",
   "path": "/home/runner/.local/share/jupyter/kernels/microwave-remote-sensing"
  }
 },
 "nbformat": 4,
 "nbformat_minor": 4
}
